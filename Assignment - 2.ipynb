{
 "cells": [
  {
   "cell_type": "code",
   "execution_count": 1,
   "id": "d484bbca",
   "metadata": {},
   "outputs": [],
   "source": [
    "# importing necessary libraries\n",
    "import wbgapi as wb\n",
    "import pandas as pd\n",
    "import numpy as np\n",
    "import seaborn as sns\n",
    "from glob import glob\n",
    "import re\n",
    "import matplotlib.pyplot as plt\n",
    "%matplotlib inline\n",
    "\n",
    "# creating a list of country codes which will be used to pull data from worldbank data\n",
    "country_codes = [\"GBR\",\"USA\",\"BGD\"]"
   ]
  },
  {
   "cell_type": "code",
   "execution_count": 3,
   "id": "de37c6e4",
   "metadata": {},
   "outputs": [],
   "source": [
    "# creating two indicator id lists which will be used to pull data from worldbank data\n",
    "# Population growth (annual %) = SP.POP.GROW\n",
    "# CO2 emissions (metric tons per capita) = EN.ATM.CO2E.PC\n",
    "# Arable land (% of land area) = AG.LND.ARBL.ZS\n",
    "# Forest area (% of land area) = AG.LND.FRST.ZS\n",
    "\n",
    "indicator_ids_1 = [\"SP.POP.GROW\",\"EN.ATM.CO2E.PC\"]\n",
    "indicator_ids_2 = [\"AG.LND.ARBL.ZS\", \"AG.LND.FRST.ZS\"]\n"
   ]
  },
  {
   "cell_type": "code",
   "execution_count": null,
   "id": "0c0bfa32",
   "metadata": {},
   "outputs": [],
   "source": []
  }
 ],
 "metadata": {
  "kernelspec": {
   "display_name": "Python 3 (ipykernel)",
   "language": "python",
   "name": "python3"
  },
  "language_info": {
   "codemirror_mode": {
    "name": "ipython",
    "version": 3
   },
   "file_extension": ".py",
   "mimetype": "text/x-python",
   "name": "python",
   "nbconvert_exporter": "python",
   "pygments_lexer": "ipython3",
   "version": "3.9.7"
  }
 },
 "nbformat": 4,
 "nbformat_minor": 5
}
